{
 "cells": [
  {
   "cell_type": "markdown",
   "metadata": {},
   "source": [
    "## ProPublica's API\n",
    "### Change keys to your own\n",
    "### API documentation below, really in depth\n",
    "### https://projects.propublica.org/api-docs/congress-api/votes/\n",
    "\n",
    "#### This website is kinda what we want to do but like way more, cool to explore\n",
    "#### https://projects.propublica.org/represent/\n"
   ]
  },
  {
   "cell_type": "code",
   "execution_count": 2,
   "metadata": {},
   "outputs": [],
   "source": [
    "import requests\n",
    "import requests_cache\n",
    "gkey = 'SZd2G4Df6NBRI5YgEfuEr2aOY1sE84dfLmqDIAN5 ' #need for zipcodes, but for later\n",
    "ppkey = \"SZd2G4Df6NBRI5YgEfuEr2aOY1sE84dfLmqDIAN5 \"\n",
    "requests_cache.install_cache('pro_cache')\n",
    "i = 5"
   ]
  },
  {
   "cell_type": "code",
   "execution_count": 14,
   "metadata": {},
   "outputs": [],
   "source": [
    "i = 5"
   ]
  },
  {
   "cell_type": "code",
   "execution_count": null,
   "metadata": {},
   "outputs": [],
   "source": []
  },
  {
   "cell_type": "markdown",
   "metadata": {},
   "source": [
    "## Who voted to confirm Kavanaugh? I'm looking at you Collins..."
   ]
  },
  {
   "cell_type": "code",
   "execution_count": 15,
   "metadata": {},
   "outputs": [
    {
     "data": {
      "text/plain": [
       "'Charles P. Rettig, of California, to be Commissioner of Internal Revenue for the term expiring November 12, 2022'"
      ]
     },
     "execution_count": 15,
     "metadata": {},
     "output_type": "execute_result"
    }
   ],
   "source": [
    "headers={'X-API-Key': ppkey}\n",
    "r = requests.get(\"https://api.propublica.org/congress/v1/115/senate/sessions/2/votes/20\" + str(10) + \".json\", headers = headers )#print(r.text)\n",
    "r.json()[\"results\"][\"votes\"][\"vote\"][\"description\"]"
   ]
  },
  {
   "cell_type": "code",
   "execution_count": 9,
   "metadata": {},
   "outputs": [
    {
     "data": {
      "text/plain": [
       "'Bill Passed'"
      ]
     },
     "execution_count": 9,
     "metadata": {},
     "output_type": "execute_result"
    }
   ],
   "source": [
    "r.json()[\"results\"][\"votes\"][\"vote\"][\"result\"]"
   ]
  },
  {
   "cell_type": "code",
   "execution_count": 10,
   "metadata": {},
   "outputs": [
    {
     "data": {
      "text/plain": [
       "{'no': 1, 'not_voting': 0, 'present': 0, 'yes': 99}"
      ]
     },
     "execution_count": 10,
     "metadata": {},
     "output_type": "execute_result"
    }
   ],
   "source": [
    "r.json()[\"results\"][\"votes\"][\"vote\"][\"total\"]"
   ]
  },
  {
   "cell_type": "code",
   "execution_count": 16,
   "metadata": {},
   "outputs": [],
   "source": [
    "votes = r.json()[\"results\"][\"votes\"][\"vote\"][\"positions\"]\n"
   ]
  },
  {
   "cell_type": "code",
   "execution_count": 18,
   "metadata": {},
   "outputs": [],
   "source": [
    "import pandas as pd"
   ]
  },
  {
   "cell_type": "code",
   "execution_count": 50,
   "metadata": {},
   "outputs": [],
   "source": [
    "random.seed(3)\n",
    "for i in random.sample(range(1,229),20):\n",
    "    r = requests.get(\"https://api.propublica.org/congress/v1/115/senate/sessions/2/votes/\" + str(i) + \".json\", headers = headers )#print(r.text)\n",
    "    #print(r.json()[\"results\"][\"votes\"][\"vote\"][\"description\"])\n",
    "    votes = r.json()[\"results\"][\"votes\"][\"vote\"][\"positions\"]\n",
    "    votespd = pd.DataFrame(votes)\n",
    "    votespd.to_csv(str(r.json()[\"results\"][\"votes\"][\"vote\"][\"description\"])[1:20])    "
   ]
  },
  {
   "cell_type": "code",
   "execution_count": 31,
   "metadata": {},
   "outputs": [],
   "source": [
    "votespd = pd.DataFrame(votes)\n",
    "\n",
    "votespd.to_csv(str(r.json()[\"results\"][\"votes\"][\"vote\"][\"description\"]))"
   ]
  },
  {
   "cell_type": "code",
   "execution_count": 38,
   "metadata": {},
   "outputs": [],
   "source": [
    "import random"
   ]
  },
  {
   "cell_type": "code",
   "execution_count": 46,
   "metadata": {},
   "outputs": [
    {
     "data": {
      "text/plain": [
       "[4, 3, 8]"
      ]
     },
     "execution_count": 46,
     "metadata": {},
     "output_type": "execute_result"
    }
   ],
   "source": []
  }
 ],
 "metadata": {
  "kernelspec": {
   "display_name": "Python 3",
   "language": "python",
   "name": "python3"
  },
  "language_info": {
   "codemirror_mode": {
    "name": "ipython",
    "version": 3
   },
   "file_extension": ".py",
   "mimetype": "text/x-python",
   "name": "python",
   "nbconvert_exporter": "python",
   "pygments_lexer": "ipython3",
   "version": "3.6.4"
  }
 },
 "nbformat": 4,
 "nbformat_minor": 2
}
